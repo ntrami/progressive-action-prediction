{
 "cells": [
  {
   "cell_type": "code",
   "execution_count": 5,
   "id": "c3b9e7c2",
   "metadata": {},
   "outputs": [
    {
     "name": "stdout",
     "output_type": "stream",
     "text": [
      "Total number of videos: 13320\n"
     ]
    }
   ],
   "source": [
    "import os\n",
    "# Count number of videos\n",
    "def count_videos_in_folder(folder_path):\n",
    "    video_count = 0\n",
    "    for root, dirs, files in os.walk(folder_path):\n",
    "        for file in files:\n",
    "            if file.endswith('.avi'):\n",
    "                video_count += 1\n",
    "    return video_count\n",
    "\n",
    "num_of_videos = count_videos_in_folder(\"O:/POSTGRAD/Thesis/progressive-action-prediction/data/UCF-101\")\n",
    "print(f'Total number of videos: {num_of_videos}')"
   ]
  },
  {
   "cell_type": "code",
   "execution_count": 6,
   "id": "fd0ea3e3",
   "metadata": {},
   "outputs": [
    {
     "name": "stdout",
     "output_type": "stream",
     "text": [
      "O:\\POSTGRAD\\Thesis\\progressive-action-prediction\\labels\\UCF-101\n"
     ]
    }
   ],
   "source": [
    "cd O:\\POSTGRAD\\Thesis\\progressive-action-prediction\\labels\\UCF-101"
   ]
  },
  {
   "cell_type": "code",
   "execution_count": 9,
   "id": "1e2b8ca8",
   "metadata": {},
   "outputs": [
    {
     "name": "stdout",
     "output_type": "stream",
     "text": [
      "3783\n"
     ]
    },
    {
     "data": {
      "text/html": [
       "<div>\n",
       "<style scoped>\n",
       "    .dataframe tbody tr th:only-of-type {\n",
       "        vertical-align: middle;\n",
       "    }\n",
       "\n",
       "    .dataframe tbody tr th {\n",
       "        vertical-align: top;\n",
       "    }\n",
       "\n",
       "    .dataframe thead th {\n",
       "        text-align: right;\n",
       "    }\n",
       "</style>\n",
       "<table border=\"1\" class=\"dataframe\">\n",
       "  <thead>\n",
       "    <tr style=\"text-align: right;\">\n",
       "      <th></th>\n",
       "      <th>label</th>\n",
       "      <th>id</th>\n",
       "      <th>split</th>\n",
       "    </tr>\n",
       "  </thead>\n",
       "  <tbody>\n",
       "    <tr>\n",
       "      <th>3778</th>\n",
       "      <td>YoYo</td>\n",
       "      <td>v_YoYo_g06_c04</td>\n",
       "      <td>test</td>\n",
       "    </tr>\n",
       "    <tr>\n",
       "      <th>3779</th>\n",
       "      <td>YoYo</td>\n",
       "      <td>v_YoYo_g07_c01</td>\n",
       "      <td>test</td>\n",
       "    </tr>\n",
       "    <tr>\n",
       "      <th>3780</th>\n",
       "      <td>YoYo</td>\n",
       "      <td>v_YoYo_g07_c02</td>\n",
       "      <td>test</td>\n",
       "    </tr>\n",
       "    <tr>\n",
       "      <th>3781</th>\n",
       "      <td>YoYo</td>\n",
       "      <td>v_YoYo_g07_c03</td>\n",
       "      <td>test</td>\n",
       "    </tr>\n",
       "    <tr>\n",
       "      <th>3782</th>\n",
       "      <td>YoYo</td>\n",
       "      <td>v_YoYo_g07_c04</td>\n",
       "      <td>test</td>\n",
       "    </tr>\n",
       "  </tbody>\n",
       "</table>\n",
       "</div>"
      ],
      "text/plain": [
       "     label              id split\n",
       "3778  YoYo  v_YoYo_g06_c04  test\n",
       "3779  YoYo  v_YoYo_g07_c01  test\n",
       "3780  YoYo  v_YoYo_g07_c02  test\n",
       "3781  YoYo  v_YoYo_g07_c03  test\n",
       "3782  YoYo  v_YoYo_g07_c04  test"
      ]
     },
     "execution_count": 9,
     "metadata": {},
     "output_type": "execute_result"
    }
   ],
   "source": [
    "import pandas as pd\n",
    "testdf = pd.read_csv(\"testlist01.csv\")\n",
    "print(len(testdf))\n",
    "testdf.tail()"
   ]
  },
  {
   "cell_type": "code",
   "execution_count": 21,
   "id": "188c4a03",
   "metadata": {},
   "outputs": [
    {
     "name": "stdout",
     "output_type": "stream",
     "text": [
      "9537\n"
     ]
    },
    {
     "data": {
      "text/html": [
       "<div>\n",
       "<style scoped>\n",
       "    .dataframe tbody tr th:only-of-type {\n",
       "        vertical-align: middle;\n",
       "    }\n",
       "\n",
       "    .dataframe tbody tr th {\n",
       "        vertical-align: top;\n",
       "    }\n",
       "\n",
       "    .dataframe thead th {\n",
       "        text-align: right;\n",
       "    }\n",
       "</style>\n",
       "<table border=\"1\" class=\"dataframe\">\n",
       "  <thead>\n",
       "    <tr style=\"text-align: right;\">\n",
       "      <th></th>\n",
       "      <th>label</th>\n",
       "      <th>id</th>\n",
       "      <th>split</th>\n",
       "    </tr>\n",
       "  </thead>\n",
       "  <tbody>\n",
       "    <tr>\n",
       "      <th>9532</th>\n",
       "      <td>YoYo</td>\n",
       "      <td>v_YoYo_g25_c01</td>\n",
       "      <td>train</td>\n",
       "    </tr>\n",
       "    <tr>\n",
       "      <th>9533</th>\n",
       "      <td>YoYo</td>\n",
       "      <td>v_YoYo_g25_c02</td>\n",
       "      <td>train</td>\n",
       "    </tr>\n",
       "    <tr>\n",
       "      <th>9534</th>\n",
       "      <td>YoYo</td>\n",
       "      <td>v_YoYo_g25_c03</td>\n",
       "      <td>train</td>\n",
       "    </tr>\n",
       "    <tr>\n",
       "      <th>9535</th>\n",
       "      <td>YoYo</td>\n",
       "      <td>v_YoYo_g25_c04</td>\n",
       "      <td>train</td>\n",
       "    </tr>\n",
       "    <tr>\n",
       "      <th>9536</th>\n",
       "      <td>YoYo</td>\n",
       "      <td>v_YoYo_g25_c05</td>\n",
       "      <td>train</td>\n",
       "    </tr>\n",
       "  </tbody>\n",
       "</table>\n",
       "</div>"
      ],
      "text/plain": [
       "     label              id  split\n",
       "9532  YoYo  v_YoYo_g25_c01  train\n",
       "9533  YoYo  v_YoYo_g25_c02  train\n",
       "9534  YoYo  v_YoYo_g25_c03  train\n",
       "9535  YoYo  v_YoYo_g25_c04  train\n",
       "9536  YoYo  v_YoYo_g25_c05  train"
      ]
     },
     "execution_count": 21,
     "metadata": {},
     "output_type": "execute_result"
    }
   ],
   "source": [
    "import pandas as pd\n",
    "traindf = pd.read_csv(\"trainlist01.csv\")\n",
    "print(len(testdf))\n",
    "traindf.tail()"
   ]
  },
  {
   "cell_type": "code",
   "execution_count": 32,
   "id": "0446a6d6",
   "metadata": {},
   "outputs": [
    {
     "name": "stdout",
     "output_type": "stream",
     "text": [
      "O:\\POSTGRAD\\Thesis\\progressive-action-prediction\n"
     ]
    }
   ],
   "source": [
    "cd \"O:/POSTGRAD/Thesis/progressive-action-prediction\""
   ]
  },
  {
   "cell_type": "code",
   "execution_count": 33,
   "id": "2c074bf3",
   "metadata": {},
   "outputs": [],
   "source": [
    "mkdir smallUCF-101"
   ]
  },
  {
   "cell_type": "code",
   "execution_count": 35,
   "id": "3eda6526",
   "metadata": {},
   "outputs": [],
   "source": [
    "import os\n",
    "import random\n",
    "import shutil\n",
    "\n",
    "def create_small_dataset(source_dir, target_dir, videos_per_category=10):\n",
    "    if not os.path.exists(target_dir):\n",
    "        os.makedirs(target_dir)\n",
    "\n",
    "    for category in os.listdir(source_dir):\n",
    "        category_path = os.path.join(source_dir, category)\n",
    "        if os.path.isdir(category_path):\n",
    "            videos = [file for file in os.listdir(category_path) if file.endswith('.avi')]\n",
    "            selected_videos = random.sample(videos, min(videos_per_category, len(videos)))\n",
    "\n",
    "            target_category_path = os.path.join(target_dir, category)\n",
    "            if not os.path.exists(target_category_path):\n",
    "                os.makedirs(target_category_path)\n",
    "\n",
    "            for video in selected_videos:\n",
    "                shutil.copy(os.path.join(category_path, video), os.path.join(target_category_path, video))\n",
    "\n",
    "source_directory = \"O:/POSTGRAD/Thesis/progressive-action-prediction/data/UCF-101\"\n",
    "target_directory = \"O:/POSTGRAD/Thesis/progressive-action-prediction/smallUCF-101\"\n",
    "create_small_dataset(source_directory, target_directory)"
   ]
  },
  {
   "cell_type": "code",
   "execution_count": 36,
   "id": "568fb88e",
   "metadata": {},
   "outputs": [
    {
     "name": "stdout",
     "output_type": "stream",
     "text": [
      "Total number of videos: 1010\n"
     ]
    }
   ],
   "source": [
    "num_of_videos = count_videos_in_folder(\"O:/POSTGRAD/Thesis/progressive-action-prediction/smallUCF-101\")\n",
    "print(f'Total number of videos: {num_of_videos}')"
   ]
  },
  {
   "cell_type": "code",
   "execution_count": 54,
   "id": "61f369e7",
   "metadata": {},
   "outputs": [],
   "source": [
    "import os\n",
    "import pandas as pd\n",
    "from sklearn.model_selection import train_test_split\n",
    "\n",
    "# Paths to the dataset and output directory\n",
    "source_directory = \"O:/POSTGRAD/Thesis/progressive-action-prediction/smallUCF-101\"\n",
    "output_directory = \"O:/POSTGRAD/Thesis/progressive-action-prediction/small_labels\"\n",
    "\n",
    "# Create a list to store data\n",
    "data = []\n",
    "\n",
    "# Iterate through each category and collect video file names along with their labels\n",
    "for label in os.listdir(source_directory):\n",
    "    category_path = os.path.join(source_directory, label)\n",
    "    if os.path.isdir(category_path):\n",
    "        videos = [file for file in os.listdir(category_path) if file.endswith('.avi')]\n",
    "        for video in videos:\n",
    "            video = video.replace(\".avi\", \"\")\n",
    "            data.append({'label': label, 'id': video})\n",
    "\n",
    "# Convert to DataFrame\n",
    "df = pd.DataFrame(data)\n",
    "\n",
    "# Split data into train, val, test\n",
    "train_data, temp_data = train_test_split(df, test_size=0.3, stratify=df['label'])\n",
    "val_data, test_data = train_test_split(temp_data, test_size=0.5, stratify=temp_data['label'])\n",
    "\n",
    "# Add split info\n",
    "train_data['split'] = 'train'\n",
    "val_data['split'] = 'val'\n",
    "test_data['split'] = 'test'\n",
    "\n",
    "# Combine data\n",
    "all_data = pd.concat([train_data, val_data, test_data])\n",
    "\n",
    "# Save to CSV files\n",
    "all_data.to_csv(os.path.join(output_directory, 'dataset.csv'), index=False)\n",
    "\n",
    "# Save separate CSV files\n",
    "train_data.to_csv(os.path.join(output_directory, 'train.csv'), index=False)\n",
    "val_data.to_csv(os.path.join(output_directory, 'val.csv'), index=False)\n",
    "test_data.to_csv(os.path.join(output_directory, 'test.csv'), index=False)"
   ]
  },
  {
   "cell_type": "code",
   "execution_count": 55,
   "id": "12324660",
   "metadata": {},
   "outputs": [
    {
     "name": "stdout",
     "output_type": "stream",
     "text": [
      "707\n"
     ]
    },
    {
     "data": {
      "text/html": [
       "<div>\n",
       "<style scoped>\n",
       "    .dataframe tbody tr th:only-of-type {\n",
       "        vertical-align: middle;\n",
       "    }\n",
       "\n",
       "    .dataframe tbody tr th {\n",
       "        vertical-align: top;\n",
       "    }\n",
       "\n",
       "    .dataframe thead th {\n",
       "        text-align: right;\n",
       "    }\n",
       "</style>\n",
       "<table border=\"1\" class=\"dataframe\">\n",
       "  <thead>\n",
       "    <tr style=\"text-align: right;\">\n",
       "      <th></th>\n",
       "      <th>label</th>\n",
       "      <th>id</th>\n",
       "      <th>split</th>\n",
       "    </tr>\n",
       "  </thead>\n",
       "  <tbody>\n",
       "    <tr>\n",
       "      <th>702</th>\n",
       "      <td>MilitaryParade</td>\n",
       "      <td>v_MilitaryParade_g10_c04</td>\n",
       "      <td>train</td>\n",
       "    </tr>\n",
       "    <tr>\n",
       "      <th>703</th>\n",
       "      <td>BalanceBeam</td>\n",
       "      <td>v_BalanceBeam_g06_c02</td>\n",
       "      <td>train</td>\n",
       "    </tr>\n",
       "    <tr>\n",
       "      <th>704</th>\n",
       "      <td>Diving</td>\n",
       "      <td>v_Diving_g16_c02</td>\n",
       "      <td>train</td>\n",
       "    </tr>\n",
       "    <tr>\n",
       "      <th>705</th>\n",
       "      <td>BoxingPunchingBag</td>\n",
       "      <td>v_BoxingPunchingBag_g07_c06</td>\n",
       "      <td>train</td>\n",
       "    </tr>\n",
       "    <tr>\n",
       "      <th>706</th>\n",
       "      <td>JugglingBalls</td>\n",
       "      <td>v_JugglingBalls_g18_c03</td>\n",
       "      <td>train</td>\n",
       "    </tr>\n",
       "  </tbody>\n",
       "</table>\n",
       "</div>"
      ],
      "text/plain": [
       "                 label                           id  split\n",
       "702     MilitaryParade     v_MilitaryParade_g10_c04  train\n",
       "703        BalanceBeam        v_BalanceBeam_g06_c02  train\n",
       "704             Diving             v_Diving_g16_c02  train\n",
       "705  BoxingPunchingBag  v_BoxingPunchingBag_g07_c06  train\n",
       "706      JugglingBalls      v_JugglingBalls_g18_c03  train"
      ]
     },
     "execution_count": 55,
     "metadata": {},
     "output_type": "execute_result"
    }
   ],
   "source": [
    "import pandas as pd\n",
    "traindf = pd.read_csv(\"train.csv\")\n",
    "print(len(traindf))\n",
    "traindf.tail()"
   ]
  },
  {
   "cell_type": "code",
   "execution_count": null,
   "id": "526c46f5",
   "metadata": {},
   "outputs": [],
   "source": []
  }
 ],
 "metadata": {
  "kernelspec": {
   "display_name": "Python 3 (ipykernel)",
   "language": "python",
   "name": "python3"
  },
  "language_info": {
   "codemirror_mode": {
    "name": "ipython",
    "version": 3
   },
   "file_extension": ".py",
   "mimetype": "text/x-python",
   "name": "python",
   "nbconvert_exporter": "python",
   "pygments_lexer": "ipython3",
   "version": "3.8.3"
  }
 },
 "nbformat": 4,
 "nbformat_minor": 5
}
